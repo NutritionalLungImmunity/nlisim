{
 "cells": [
  {
   "cell_type": "markdown",
   "metadata": {},
   "source": [
    "## Sample Module with Sample ModuleState\n",
    "\n",
    "This notebook shows how to create a basic module that can be easily tested with the simulation"
   ]
  },
  {
   "cell_type": "code",
   "execution_count": null,
   "metadata": {},
   "outputs": [],
   "source": [
    "import attr\n",
    "\n",
    "from nlisim.module import Module, ModuleState\n",
    "from nlisim.state import State\n",
    "\n",
    "\n",
    "@attr.s(kw_only=True)\n",
    "class SampleState(ModuleState):\n",
    "    variable_name: int = attr.ib(default=0)\n",
    "\n",
    "class Sample(Module):\n",
    "    name = 'sample'\n",
    "    defaults = {\n",
    "        'ex_int': '0',\n",
    "        'ex_float': '0.0',\n",
    "        'ex_bool': 'False',\n",
    "        'ex_string': '',\n",
    "    }\n",
    "    StateClass = SampleState\n",
    "    \n",
    "    def initialize(self, state: State):\n",
    "        # how to get different values from config.ini file\n",
    "        state.sample.ex_int = self.config.getint('ex_int')\n",
    "        state.sample.ex_float = self.config.getfloat('ex_float')\n",
    "        state.sample.ex_bool = self.config.getboolean('ex_bool')\n",
    "        state.sample.ex_string = self.config.get('ex_string')\n",
    "        return state\n",
    "        \n",
    "    # see nlisim.module to see various default functions whose behaviour can be overridden"
   ]
  },
  {
   "cell_type": "code",
   "execution_count": null,
   "metadata": {
    "scrolled": false
   },
   "outputs": [],
   "source": [
    "# see run in simulation/cli.py\n",
    "from math import ceil\n",
    "\n",
    "from nlisim.config import SimulationConfig\n",
    "from nlisim.solver import run\n",
    "\n",
    "\n",
    "# any config files in config_files should be hardcoded to be a full local file path\n",
    "# edit config file referencing geometry.hdf5 to be the full local file path\n",
    "# Note: files outputted will be in the same folder as this notebook\n",
    "config_files = []\n",
    "config = SimulationConfig(*config_files)\n",
    "\n",
    "config.add_module(Sample)\n",
    "\n",
    "target_time = 5\n",
    "\n",
    "state = run(config, target_time)"
   ]
  },
  {
   "cell_type": "code",
   "execution_count": null,
   "metadata": {},
   "outputs": [],
   "source": []
  }
 ],
 "metadata": {
  "kernelspec": {
   "display_name": "Python 3",
   "language": "python",
   "name": "python3"
  },
  "language_info": {
   "codemirror_mode": {
    "name": "ipython",
    "version": 3
   },
   "file_extension": ".py",
   "mimetype": "text/x-python",
   "name": "python",
   "nbconvert_exporter": "python",
   "pygments_lexer": "ipython3",
   "version": "3.8.2"
  }
 },
 "nbformat": 4,
 "nbformat_minor": 4
}
