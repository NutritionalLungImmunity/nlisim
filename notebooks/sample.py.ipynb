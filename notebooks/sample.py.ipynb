{
 "cells": [
  {
   "cell_type": "markdown",
   "metadata": {},
   "source": [
    "## Sample Module with Sample ModuleState\n",
    "\n",
    "This notebook shows how to create a basic module that can be easily tested with the simulation"
   ]
  },
  {
   "cell_type": "code",
   "execution_count": 2,
   "metadata": {},
   "outputs": [],
   "source": [
    "import attr\n",
    "\n",
    "from simulation.module import Module, ModuleState\n",
    "from simulation.state import State\n",
    "\n",
    "\n",
    "@attr.s(kw_only=True)\n",
    "class SampleState(ModuleState):\n",
    "    variable_name: int = attr.ib(default=0)\n",
    "\n",
    "class Sample(Module):\n",
    "    name = 'sample'\n",
    "    defaults = {\n",
    "        'ex_int': '0',\n",
    "        'ex_float': '0.0',\n",
    "        'ex_bool': 'False',\n",
    "        'ex_string': '',\n",
    "    }\n",
    "    StateClass = SampleState\n",
    "    \n",
    "    def initialize(self, state: State):\n",
    "        # how to get different values from config.ini file\n",
    "        state.sample.ex_int = self.config.getint('ex_int')\n",
    "        state.sample.ex_float = self.config.getfloat('ex_float')\n",
    "        state.sample.ex_bool = self.config.getboolean('ex_bool')\n",
    "        state.sample.ex_string = self.config.get('ex_string')\n",
    "        \n",
    "    # see simulation.module to see various default functions whose behaviour can be overridden"
   ]
  },
  {
   "cell_type": "code",
   "execution_count": 3,
   "metadata": {
    "scrolled": true
   },
   "outputs": [],
   "source": [
    "# see run in simulation/cli.py\n",
    "from math import ceil\n",
    "\n",
    "from simulation.config import SimulationConfig\n",
    "from simulation.solver import advance, finalize, initialize\n",
    "\n",
    "\n",
    "# any config files in config_files should be hardcoded to be a full local file path\n",
    "# edit config file referencing geometry.hdf5 to be the full local file path\n",
    "config_files = []\n",
    "config = SimulationConfig(*config_files)\n",
    "\n",
    "config.add_module(Sample)\n",
    "\n",
    "target_time = 5\n",
    "total = ceil(target_time / config.getfloat('simulation', 'time_step'))\n",
    "\n",
    "attr.set_run_validators(config.getboolean('simulation', 'validate'))\n",
    "\n",
    "def get_time(x):\n",
    "    if x is None:\n",
    "        return '0'\n",
    "    return '%.2f' % x.time\n",
    "\n",
    "state = initialize(State.create(config))\n",
    "states = advance(state, target_time)\n",
    "for _state in states:\n",
    "    pass\n",
    "\n",
    "state = finalize(state)\n",
    "\n",
    "# Note: all files outputted will be in the same folder this notebook unless specified like below\n",
    "state.save('../simulation-final.pkl')"
   ]
  }
 ],
 "metadata": {
  "kernelspec": {
   "display_name": "Python 3.6.9 64-bit ('simulation-framework': pipenv)",
   "language": "python",
   "name": "python36964bitsimulationframeworkpipenvbd7f75cb29004d9a9f3a9e2c739901c8"
  },
  "language_info": {
   "codemirror_mode": {
    "name": "ipython",
    "version": 3
   },
   "file_extension": ".py",
   "mimetype": "text/x-python",
   "name": "python",
   "nbconvert_exporter": "python",
   "pygments_lexer": "ipython3",
   "version": "3.6.9"
  }
 },
 "nbformat": 4,
 "nbformat_minor": 4
}